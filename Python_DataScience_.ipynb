{
  "nbformat": 4,
  "nbformat_minor": 0,
  "metadata": {
    "colab": {
      "provenance": [],
      "authorship_tag": "ABX9TyNSsNgHeybWBUuewQEKP07U",
      "include_colab_link": true
    },
    "kernelspec": {
      "name": "python3",
      "display_name": "Python 3"
    },
    "language_info": {
      "name": "python"
    }
  },
  "cells": [
    {
      "cell_type": "markdown",
      "metadata": {
        "id": "view-in-github",
        "colab_type": "text"
      },
      "source": [
        "<a href=\"https://colab.research.google.com/github/mrodrigues05/Bases_DataScience/blob/main/Python_DataScience_.ipynb\" target=\"_parent\"><img src=\"https://colab.research.google.com/assets/colab-badge.svg\" alt=\"Open In Colab\"/></a>"
      ]
    },
    {
      "cell_type": "markdown",
      "source": [
        "*Introdução ao Python - notas de aula*"
      ],
      "metadata": {
        "id": "K-0s-_Um1tgV"
      }
    },
    {
      "cell_type": "markdown",
      "source": [
        "**Váriaveis**<br>\n",
        "O python não é fortemente tipado , ele descobre sozinho o tipo da variável."
      ],
      "metadata": {
        "id": "YUflnr1D2Ae7"
      }
    },
    {
      "cell_type": "code",
      "source": [
        "var1 = \"Oi\" #tipo str\n",
        "var2 = 10 #tipo int\n",
        "var3 = 10.0 #tipo float"
      ],
      "metadata": {
        "id": "b2V3vBFI2FaI"
      },
      "execution_count": null,
      "outputs": []
    },
    {
      "cell_type": "markdown",
      "source": [
        "Porém é possível definir a variável, isso é sempre uma boa prática de programação."
      ],
      "metadata": {
        "id": "TMLmccR12mA4"
      }
    },
    {
      "cell_type": "code",
      "source": [
        "var1: str = \"Oi\"\n",
        "var2: int = 10\n",
        "var3: float = 10.0"
      ],
      "metadata": {
        "id": "gpVXoXDh2rQR"
      },
      "execution_count": null,
      "outputs": []
    },
    {
      "cell_type": "markdown",
      "source": [
        "**Input e Output I/O**"
      ],
      "metadata": {
        "id": "f6Pjv5AX3cxB"
      }
    },
    {
      "cell_type": "code",
      "source": [
        "print(\"Ola\")\n",
        "\n",
        "Nome: str = \"Enzo\"\n",
        "print(f\"Olá {Nome}. Espero que esteja bem!\") #o f representa o format\n",
        "\n",
        "#Olá Enzo. Espero que esteja bem\n",
        "\n"
      ],
      "metadata": {
        "colab": {
          "base_uri": "https://localhost:8080/"
        },
        "id": "KG-Baugh3ksc",
        "outputId": "836fd50f-9209-4cd7-f3e5-c6cc74dfe977"
      },
      "execution_count": null,
      "outputs": [
        {
          "output_type": "stream",
          "name": "stdout",
          "text": [
            "Ola\n",
            "Olá Enzo. Espero que esteja bem!\n"
          ]
        }
      ]
    },
    {
      "cell_type": "markdown",
      "source": [
        "Por padrão sempre que ocorrer um print ele vai dar uma quebra de linha, ex:"
      ],
      "metadata": {
        "id": "obfiD_4W4KZp"
      }
    },
    {
      "cell_type": "code",
      "source": [
        "print(\"1 \")\n",
        "print(\"2 \")\n",
        "print(\"3 \")\n",
        "print(\"4 \")"
      ],
      "metadata": {
        "colab": {
          "base_uri": "https://localhost:8080/"
        },
        "id": "juDzuFH04R8o",
        "outputId": "dcfffee9-a7ff-4e51-a561-2544a2f2d487"
      },
      "execution_count": null,
      "outputs": [
        {
          "output_type": "stream",
          "name": "stdout",
          "text": [
            "1 \n",
            "2 \n",
            "3 \n",
            "4 \n"
          ]
        }
      ]
    },
    {
      "cell_type": "markdown",
      "source": [
        "Porém uma forma de resolver esse problema é adicionando o end"
      ],
      "metadata": {
        "id": "Y_DaaapF4f-1"
      }
    },
    {
      "cell_type": "code",
      "source": [
        "print(\"1\", end=\" \")\n",
        "print(\"2\", end=\" \")\n",
        "print(\"3\", end=\" \")\n",
        "print(\"4\", end=\" \")"
      ],
      "metadata": {
        "colab": {
          "base_uri": "https://localhost:8080/"
        },
        "id": "p52KAjBK4pu3",
        "outputId": "3d27ff78-7ee5-4383-c15a-76974a449cca"
      },
      "execution_count": null,
      "outputs": [
        {
          "output_type": "stream",
          "name": "stdout",
          "text": [
            "1 2 3 4 "
          ]
        }
      ]
    },
    {
      "cell_type": "markdown",
      "source": [
        "**Input**"
      ],
      "metadata": {
        "id": "uqI6f5Sv5l6o"
      }
    },
    {
      "cell_type": "code",
      "source": [
        "variavel: int = input() #user digita 10\n",
        "print(2 * variavel) #saida : 1010"
      ],
      "metadata": {
        "colab": {
          "base_uri": "https://localhost:8080/"
        },
        "id": "m5kNgrQb5nzT",
        "outputId": "cf8e44b6-9ec6-4b09-9314-eb630e315369"
      },
      "execution_count": null,
      "outputs": [
        {
          "output_type": "stream",
          "name": "stdout",
          "text": [
            "10\n",
            "1010\n"
          ]
        }
      ]
    },
    {
      "cell_type": "markdown",
      "source": [
        "Para que isso não aconteça precisamos utilizar o \"cast\""
      ],
      "metadata": {
        "id": "6B0pjURC54zC"
      }
    },
    {
      "cell_type": "code",
      "source": [
        "variavel: int = int(input()) #user digita 10\n",
        "print(2 * variavel) #saida: 20"
      ],
      "metadata": {
        "colab": {
          "base_uri": "https://localhost:8080/"
        },
        "id": "XRwjaWsu5_-R",
        "outputId": "d44aee00-1a87-4888-d835-4c31ed57fdee"
      },
      "execution_count": null,
      "outputs": [
        {
          "output_type": "stream",
          "name": "stdout",
          "text": [
            "10\n",
            "20\n"
          ]
        }
      ]
    },
    {
      "cell_type": "markdown",
      "source": [
        "**Estrutura de decisão** <br>if/else"
      ],
      "metadata": {
        "id": "JlPvKZcQ6Ybm"
      }
    },
    {
      "cell_type": "code",
      "source": [
        "x: int = int(input())\n",
        "\n",
        "if (x > 10):\n",
        "  print(\"X maior que 10\")\n",
        "else:\n",
        "  print(\"X menor ou igual a 10\")\n",
        "print(\"Essa mensagm não depende de x\")"
      ],
      "metadata": {
        "colab": {
          "base_uri": "https://localhost:8080/"
        },
        "id": "5hEXycTt6i5x",
        "outputId": "9480a87e-1b47-4cfa-beb9-d61366ef021c"
      },
      "execution_count": null,
      "outputs": [
        {
          "output_type": "stream",
          "name": "stdout",
          "text": [
            "13\n",
            "X maior que 10\n",
            "Essa mensagm não depende de x\n"
          ]
        }
      ]
    },
    {
      "cell_type": "markdown",
      "source": [
        "**Loop** <br>Repete um trecho do código, o lado ruim é que o código é repetido várias vezes."
      ],
      "metadata": {
        "id": "l8Frdas87MZN"
      }
    },
    {
      "cell_type": "markdown",
      "source": [
        "**While** <br> Enquanto a condição que estiverr dentro do () for verdadeira ele irá rodar o código"
      ],
      "metadata": {
        "id": "WXtHMOs37mwu"
      }
    },
    {
      "cell_type": "code",
      "source": [
        "i: int = 10\n",
        "while(i >= 0):\n",
        "  print(i)\n",
        "\n",
        "  i = i - 1"
      ],
      "metadata": {
        "colab": {
          "base_uri": "https://localhost:8080/"
        },
        "id": "nYZflGPp8Kt2",
        "outputId": "98bb3864-0c3a-4ff1-acf0-f90f8c7c0986"
      },
      "execution_count": null,
      "outputs": [
        {
          "output_type": "stream",
          "name": "stdout",
          "text": [
            "10\n",
            "9\n",
            "8\n",
            "7\n",
            "6\n",
            "5\n",
            "4\n",
            "3\n",
            "2\n",
            "1\n",
            "0\n"
          ]
        }
      ]
    },
    {
      "cell_type": "markdown",
      "source": [
        "**For** <br> - O loop irá começar em **a** <br> - Irá até **b** não contido <br> - C é de quanto em quanto ele vai atualizar **i**"
      ],
      "metadata": {
        "id": "x48ADq3A-OFW"
      }
    },
    {
      "cell_type": "code",
      "source": [
        "#a = 0; b = 10; c = 1\n",
        "for i in range(0, 10, 1):\n",
        "  print(i, end=\" \")\n"
      ],
      "metadata": {
        "colab": {
          "base_uri": "https://localhost:8080/"
        },
        "id": "sOFvB2VlAYei",
        "outputId": "6a69b0da-b528-490d-fc63-5de933c0c8d4"
      },
      "execution_count": null,
      "outputs": [
        {
          "output_type": "stream",
          "name": "stdout",
          "text": [
            "0 1 2 3 4 5 6 7 8 9 "
          ]
        }
      ]
    },
    {
      "cell_type": "markdown",
      "source": [],
      "metadata": {
        "id": "jUVlEFqG4fdW"
      }
    },
    {
      "cell_type": "code",
      "source": [
        "for i in range(10):\n",
        "  print(i, end=\" \")"
      ],
      "metadata": {
        "colab": {
          "base_uri": "https://localhost:8080/"
        },
        "id": "qXEQB0D7AtOK",
        "outputId": "9b8047fa-b39e-4b77-f9ab-160d3a954b99"
      },
      "execution_count": null,
      "outputs": [
        {
          "output_type": "stream",
          "name": "stdout",
          "text": [
            "0 1 2 3 4 5 6 7 8 9 "
          ]
        }
      ]
    },
    {
      "cell_type": "markdown",
      "source": [
        "**Estrutura de Dados contidas no Python**"
      ],
      "metadata": {
        "id": "ycoZq2f_CJXm"
      }
    },
    {
      "cell_type": "markdown",
      "source": [
        "**Lista**"
      ],
      "metadata": {
        "id": "0rvlzmfCCb1c"
      }
    },
    {
      "cell_type": "code",
      "source": [
        "lista = [\"UNICAMP\", \"IMECC\", \"Python\"]\n",
        "\n",
        "lista[0] #UNICAMP\n",
        "lista[1] #IMECC\n",
        "lista[2] #Python"
      ],
      "metadata": {
        "colab": {
          "base_uri": "https://localhost:8080/",
          "height": 36
        },
        "id": "2Jg0mlH6CZ4w",
        "outputId": "22cd3f87-6478-4ee0-9171-2db9c84105ee"
      },
      "execution_count": null,
      "outputs": [
        {
          "output_type": "execute_result",
          "data": {
            "text/plain": [
              "'Python'"
            ],
            "application/vnd.google.colaboratory.intrinsic+json": {
              "type": "string"
            }
          },
          "metadata": {},
          "execution_count": 19
        }
      ]
    },
    {
      "cell_type": "markdown",
      "source": [
        ".pop ; Remove o elemento que está na posição x <br>\n",
        ".sort ; Ordena a lista"
      ],
      "metadata": {
        "id": "aExxVxbFycz3"
      }
    },
    {
      "cell_type": "code",
      "source": [
        "lista = [3, 2, 1]\n",
        "\n",
        "print(len(lista)) #3\n",
        "\n",
        "x:int = lista.pop(1)\n",
        "\n",
        "print(x) #2\n",
        "print(lista) #[3,1]\n",
        "\n",
        "print(len(lista)) #2\n",
        "\n",
        "lista.sort()\n",
        "\n",
        "print(lista) # [1,3]"
      ],
      "metadata": {
        "colab": {
          "base_uri": "https://localhost:8080/"
        },
        "id": "HO0i6GB6xgQo",
        "outputId": "584e3746-ff5f-43db-a501-af8234644834"
      },
      "execution_count": 2,
      "outputs": [
        {
          "output_type": "stream",
          "name": "stdout",
          "text": [
            "3\n",
            "2\n",
            "[3, 1]\n",
            "2\n",
            "[1, 3]\n"
          ]
        }
      ]
    },
    {
      "cell_type": "markdown",
      "source": [
        "**Slicing** <br> É o processo de cortar a lista"
      ],
      "metadata": {
        "id": "f6ENv9ggyZm3"
      }
    },
    {
      "cell_type": "code",
      "source": [
        "lista = [0, 1, 2, 3, 4, 5, 6, 7, 8, 9]\n",
        "\n",
        "lista[0:9:1] # [0, 1, 2, 3, 4, 5, 6, 7, 8]\n",
        "\n",
        "lista[::] # [0, 1, 2, 3, 4, 5, 6, 7, 8, 9]\n"
      ],
      "metadata": {
        "id": "p6t0PCbozK0f"
      },
      "execution_count": null,
      "outputs": []
    },
    {
      "cell_type": "markdown",
      "source": [
        "**Set e Tupla** <br> Set:<br> A grande diferença entre set e list é que o Set não pode conter elementos repetidos. <br> Tupla: <br> Já a Tupla é uma lista imutável, ou seja, não pode mudar seus valores."
      ],
      "metadata": {
        "id": "nHC7a1cn0PRr"
      }
    },
    {
      "cell_type": "code",
      "source": [
        "array = [1, 1, 2]\n",
        "print(set(array)) #[1,2]"
      ],
      "metadata": {
        "colab": {
          "base_uri": "https://localhost:8080/"
        },
        "id": "3kyjPxib1CBx",
        "outputId": "a7a4a83c-ae6e-45be-8ea1-01af1cd5d591"
      },
      "execution_count": 3,
      "outputs": [
        {
          "output_type": "stream",
          "name": "stdout",
          "text": [
            "{1, 2}\n"
          ]
        }
      ]
    },
    {
      "cell_type": "markdown",
      "source": [
        "**Dicionário** <br> É um hash onde ficam as senhas e as mesmas são acessadas através de uma chave, sua busca é através de um valor O(1) independente do tamanho do dicionário o tempo para acessar um valor dado uma chave é constante."
      ],
      "metadata": {
        "id": "JssoYYNE1WJ7"
      }
    },
    {
      "cell_type": "markdown",
      "source": [
        "O dicionário é acessado por keys sendo que cada uma pode conter um valor."
      ],
      "metadata": {
        "id": "XbP-OTOh6eX7"
      }
    },
    {
      "cell_type": "code",
      "source": [
        "dicionario = {}\n",
        "\n",
        "dicionario[1] = \"1\"\n",
        "dicionario[\"1\"] = 1\n",
        "dicionario[\"lista\"] = [1, 2, 3, 4, 5]\n",
        "dicionario[\"dicionario\"] = {\"key\": \"valor\"}\n",
        "\n",
        "print(dicionario)\n",
        "\"\"\"\n",
        "{\n",
        "  1: \"1\",\n",
        "  \"1\": 1,\n",
        "  \"lista\": [1, 2, 3, 4, 5],\n",
        "  \"dicionario\": {\"key\": \"valor\"}\n",
        "}\n",
        "\"\"\""
      ],
      "metadata": {
        "id": "V4F1WE2Y6pXd"
      },
      "execution_count": null,
      "outputs": []
    }
  ]
}