{
  "nbformat": 4,
  "nbformat_minor": 0,
  "metadata": {
    "colab": {
      "provenance": [],
      "authorship_tag": "ABX9TyMJNKaCB7LOV1v0WxOZRcaN",
      "include_colab_link": true
    },
    "kernelspec": {
      "name": "python3",
      "display_name": "Python 3"
    },
    "language_info": {
      "name": "python"
    }
  },
  "cells": [
    {
      "cell_type": "markdown",
      "metadata": {
        "id": "view-in-github",
        "colab_type": "text"
      },
      "source": [
        "<a href=\"https://colab.research.google.com/github/mrodrigues05/Bases_DataScience/blob/main/Aula2.ipynb\" target=\"_parent\"><img src=\"https://colab.research.google.com/assets/colab-badge.svg\" alt=\"Open In Colab\"/></a>"
      ]
    },
    {
      "cell_type": "markdown",
      "source": [
        "**Funções e POO**"
      ],
      "metadata": {
        "id": "JxhMVCap86nM"
      }
    },
    {
      "cell_type": "markdown",
      "source": [
        "**Funções** <br> É útil na reutilização de código e acaba sendo uma maneira do modularizar o código deixando mais organizado."
      ],
      "metadata": {
        "id": "-Gi3jXrJ9PvZ"
      }
    },
    {
      "cell_type": "code",
      "source": [
        "def maior(x, y, z):\n",
        "  if x >= y and x >= z:\n",
        "    return x\n",
        "  elif y >= z:\n",
        "    return y\n",
        "\n",
        "    return z\n",
        "\n",
        "    print(max(1, 2, 3))"
      ],
      "metadata": {
        "id": "ipgWIwIs9Tlh"
      },
      "execution_count": null,
      "outputs": []
    },
    {
      "cell_type": "code",
      "source": [
        "nome: str = input(\"Digite seu nome: \")"
      ],
      "metadata": {
        "colab": {
          "base_uri": "https://localhost:8080/"
        },
        "id": "dblkiP7X_YCF",
        "outputId": "a212bf22-01f6-48ee-92f4-ca1e0b950248"
      },
      "execution_count": null,
      "outputs": [
        {
          "name": "stdout",
          "output_type": "stream",
          "text": [
            "Digite seu nome: mm\n"
          ]
        }
      ]
    },
    {
      "cell_type": "markdown",
      "source": [
        "**Referências**\n",
        "<br>\n",
        "Objetos imutáveis\n",
        "\n",
        "\n",
        "\n"
      ],
      "metadata": {
        "id": "8frTajfFAHZv"
      }
    },
    {
      "cell_type": "code",
      "source": [
        "a = 2\n",
        "b = a\n",
        "\n",
        "print(a) #2\n",
        "print(b) #2\n",
        "\n",
        "b = 3\n",
        "\n",
        "print(a) #2\n",
        "print(b) #3\n",
        "\n",
        "tupla1 = (1, 2, 3)\n",
        "tupla2 = (3, 4, 5)\n",
        "\n",
        "tupla1 = tupla2\n",
        "\n",
        "print(tupla1) #(3, 4, 5)\n"
      ],
      "metadata": {
        "colab": {
          "base_uri": "https://localhost:8080/"
        },
        "id": "jaluSlCpALfM",
        "outputId": "2acba35a-90b3-429b-a05a-a7e61217c0ab"
      },
      "execution_count": null,
      "outputs": [
        {
          "output_type": "stream",
          "name": "stdout",
          "text": [
            "2\n",
            "2\n",
            "2\n",
            "3\n",
            "(3, 4, 5)\n"
          ]
        }
      ]
    },
    {
      "cell_type": "markdown",
      "source": [
        "**Objetos Mutáveis**"
      ],
      "metadata": {
        "id": "tQuN1vvXBpr9"
      }
    },
    {
      "cell_type": "code",
      "source": [
        "lista1 = [1, 2, 3]\n",
        "lista2 = lista1\n",
        "\n",
        "lista1.append(4)\n",
        "\n",
        "print(lista1) #[1, 2, 3, 4]"
      ],
      "metadata": {
        "colab": {
          "base_uri": "https://localhost:8080/"
        },
        "id": "_2b07hKoB6Ud",
        "outputId": "57c29868-4475-450e-e39d-77fd1296af84"
      },
      "execution_count": null,
      "outputs": [
        {
          "output_type": "stream",
          "name": "stdout",
          "text": [
            "[1, 2, 3, 4]\n"
          ]
        }
      ]
    },
    {
      "cell_type": "markdown",
      "source": [
        "**POO - Programação Orientada a Objetos**\n",
        "<br> Caractezida por conter objetos e classes , deixa o código mais organizado e legível."
      ],
      "metadata": {
        "id": "lxzhFOF0C9gB"
      }
    },
    {
      "cell_type": "markdown",
      "source": [
        "**Classe** <br> É um modelo para criar um entidade e possui funções e variáveis que descrevem a entidade.\n",
        "\n"
      ],
      "metadata": {
        "id": "AvG10g9pDXTc"
      }
    },
    {
      "cell_type": "code",
      "source": [
        "class NomeClasse:\n",
        "    def __init__(self, atributos):  # Método construtor correto\n",
        "        # declaração de atributos\n",
        "        self.atributos = atributos  # Exemplo de como armazenar atributos\n",
        "\n",
        "    def funcao1(self):\n",
        "        # Corpo da função1\n",
        "        def funcao2():\n",
        "            # Corpo da função2 (aninhada dentro de função1)\n",
        "            pass\n",
        "        # Chamada ou retorno da função2 se necessário"
      ],
      "metadata": {
        "id": "ukJ7jR2nDaJ3"
      },
      "execution_count": null,
      "outputs": []
    },
    {
      "cell_type": "markdown",
      "source": [
        "Um exemplo mais detalhado , classe carro:\n"
      ],
      "metadata": {
        "id": "ENxZ9q9EELHN"
      }
    },
    {
      "cell_type": "code",
      "source": [
        "class Carro():\n",
        "  def __init__(self, cor, nome, modelo):\n",
        "     self.cor = cor\n",
        "     self.nome = nome\n",
        "     self.modelo = modelo"
      ],
      "metadata": {
        "id": "qr8N7Q-4EQCV"
      },
      "execution_count": 3,
      "outputs": []
    },
    {
      "cell_type": "markdown",
      "source": [
        "**Funções da classe**"
      ],
      "metadata": {
        "id": "fFGfHvZz7rVM"
      }
    },
    {
      "cell_type": "code",
      "source": [
        "class Carro():\n",
        "  def __init__(self, cor, nome, modelo):\n",
        "     self.cor = cor\n",
        "     self.nome = nome\n",
        "     self.modelo = modelo\n",
        "\n",
        "     def acelerar(self):\n",
        "      print(\"Acelerando...\")\n",
        "\n",
        "     def freiar(self):\n",
        "      print(\"Freiando...\")"
      ],
      "metadata": {
        "id": "PVkSi7127wey"
      },
      "execution_count": 6,
      "outputs": []
    },
    {
      "cell_type": "markdown",
      "source": [
        "**Objeto**"
      ],
      "metadata": {
        "id": "GSyOeXLD8F2T"
      }
    },
    {
      "cell_type": "code",
      "source": [
        "class Carro():\n",
        "  def __init__(self, cor, nome, modelo):\n",
        "     self.cor = cor\n",
        "     self.nome = nome\n",
        "     self.modelo = modelo\n",
        "\n",
        "     def acelerar(self):\n",
        "      print(\"Acelerando...\")\n",
        "\n",
        "     def freiar(self):\n",
        "      print(\"Freiando...\")\n",
        "\n",
        "      carro1 = Carro(\"Azul\", \"Fusca\", \"Volkswageen\")\n",
        "\n",
        "      carro1.acelerar() #Acelerando\n",
        "      carro1.freiar() #Freando\n",
        "\n",
        "      carro1.nome #Fusca"
      ],
      "metadata": {
        "id": "m6deSk-Q8JIp"
      },
      "execution_count": 7,
      "outputs": []
    },
    {
      "cell_type": "markdown",
      "source": [
        "**Herança**\n",
        "Quando uma classe herda atributos e funções de outra classe."
      ],
      "metadata": {
        "id": "83H7vWia8tYC"
      }
    },
    {
      "cell_type": "code",
      "source": [
        "class Animal:\n",
        "  def __init__(self, nome):\n",
        "    self.nome = nome\n",
        "\n",
        "  def falar(self):\n",
        "    pass\n",
        "\n",
        "class Cachorro(Animal):\n",
        "  def falar(self):\n",
        "    print(\"Latir!\")\n",
        "\n",
        "  def Dormir(self):\n",
        "    print(\"Estou dormindo!\")\n",
        "\n",
        "class Gato(Animal):\n",
        "  def falar(self):\n",
        "    print(\"Miar!\")\n",
        "\n",
        "\n",
        "    cachorro = Cachorro(\"Scooby\")\n",
        "    cachorro.nome #Scobby\n",
        "    cachorro.falar() #Latir!\n",
        "    cachorro.Dormir() #Estou dormindo!"
      ],
      "metadata": {
        "id": "FBBHqv9M83Rs"
      },
      "execution_count": 8,
      "outputs": []
    }
  ]
}